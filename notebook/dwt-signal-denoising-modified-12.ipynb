{
 "cells": [
  {
   "cell_type": "code",
   "execution_count": 1,
   "metadata": {
    "_uuid": "5226a95ba6e6ea70ec33bfe1334afdbfdb3d62e3"
   },
   "outputs": [],
   "source": [
    "import pandas as pd\n",
    "import numpy as np\n",
    "import matplotlib.pyplot as plt\n",
    "%matplotlib inline\n",
    "import seaborn as sns\n",
    "import pyarrow.parquet as pq\n",
    "import gc\n",
    "import pywt\n",
    "from statsmodels.robust import mad\n",
    "import scipy\n",
    "from scipy import signal\n",
    "from scipy.signal import butter\n",
    "from tqdm import tqdm_notebook\n",
    "import os\n",
    "from multiprocessing import Pool\n",
    "\n",
    "from numba import jit\n",
    "\n",
    "import warnings\n",
    "\n",
    "# Suppress pandas future warnings, I am using different library versions locally\n",
    "# that do not raise warnings.\n",
    "warnings.simplefilter(action='ignore', category=FutureWarning)\n",
    "\n",
    "data_dir = '../input'"
   ]
  },
  {
   "cell_type": "code",
   "execution_count": 2,
   "metadata": {
    "_uuid": "ca160dc97e710c6ee002b2ff8a4b0c59d7079f6d"
   },
   "outputs": [
    {
     "name": "stdout",
     "output_type": "stream",
     "text": [
      "1.1.0\n"
     ]
    }
   ],
   "source": [
    "print(scipy.__version__)"
   ]
  },
  {
   "cell_type": "code",
   "execution_count": 3,
   "metadata": {},
   "outputs": [],
   "source": [
    "# 800,000 data points taken over 20 ms\n",
    "# Grid operates at 50hz, 0.02 * 50 = 1, so 800k samples in 20 milliseconds will capture one complete cycle\n",
    "n_samples = 800000\n",
    "\n",
    "# Sample duration is 20 miliseconds\n",
    "sample_duration = 0.02\n",
    "\n",
    "# Sample rate is the number of samples in one second\n",
    "# Sample rate will be 40mhz\n",
    "sample_rate = n_samples * (1 / sample_duration)"
   ]
  },
  {
   "cell_type": "code",
   "execution_count": 4,
   "metadata": {},
   "outputs": [],
   "source": [
    "def maddest(d, axis=None):\n",
    "    \"\"\"\n",
    "    Mean Absolute Deviation\n",
    "    \"\"\"\n",
    "    return np.mean(np.absolute(d - np.mean(d, axis)), axis)"
   ]
  },
  {
   "cell_type": "code",
   "execution_count": 5,
   "metadata": {},
   "outputs": [],
   "source": [
    "def high_pass_filter(x, low_cutoff=1000, sample_rate=sample_rate):\n",
    "    \"\"\"\n",
    "    From @randxie https://github.com/randxie/Kaggle-VSB-Baseline/blob/master/src/utils/util_signal.py\n",
    "    Modified to work with scipy version 1.1.0 which does not have the fs parameter\n",
    "    \"\"\"\n",
    "    \n",
    "    # nyquist frequency is half the sample rate https://en.wikipedia.org/wiki/Nyquist_frequency\n",
    "    nyquist = 0.5 * sample_rate\n",
    "    norm_low_cutoff = low_cutoff / nyquist\n",
    "    \n",
    "    # Fault pattern usually exists in high frequency band. According to literature, the pattern is visible above 10^4 Hz.\n",
    "    # scipy version 1.2.0\n",
    "    #sos = butter(10, low_freq, btype='hp', fs=sample_fs, output='sos')\n",
    "    \n",
    "    # scipy version 1.1.0\n",
    "    sos = butter(10, Wn=[norm_low_cutoff], btype='highpass', output='sos')\n",
    "    filtered_sig = signal.sosfilt(sos, x)\n",
    "\n",
    "    return filtered_sig"
   ]
  },
  {
   "cell_type": "code",
   "execution_count": 6,
   "metadata": {
    "_uuid": "1ac28211bd02087a9239e28ff13e6275a0fc30de"
   },
   "outputs": [],
   "source": [
    "def denoise_signal( x, wavelet='db4', level=1):\n",
    "    \"\"\"\n",
    "    1. Adapted from waveletSmooth function found here:\n",
    "    http://connor-johnson.com/2016/01/24/using-pywavelets-to-remove-high-frequency-noise/\n",
    "    2. Threshold equation and using hard mode in threshold as mentioned\n",
    "    in section '3.2 denoising based on optimized singular values' from paper by Tomas Vantuch:\n",
    "    http://dspace.vsb.cz/bitstream/handle/10084/133114/VAN431_FEI_P1807_1801V001_2018.pdf\n",
    "    \"\"\"\n",
    "    \n",
    "    # Decompose to get the wavelet coefficients\n",
    "    coeff = pywt.wavedec( x, wavelet, mode=\"per\", level=level)\n",
    "    \n",
    "    # Calculate sigma for threshold as defined in http://dspace.vsb.cz/bitstream/handle/10084/133114/VAN431_FEI_P1807_1801V001_2018.pdf\n",
    "    # As noted by @harshit92 MAD referred to in the paper is Mean Absolute Deviation not Median Absolute Deviation\n",
    "    sigma = (1/0.6745) * maddest( coeff[-level] )\n",
    "\n",
    "    # Calculte the univeral threshold\n",
    "    uthresh = sigma * np.sqrt( 2*np.log( len( x ) ) )\n",
    "    coeff[1:] = ( pywt.threshold( i, value=uthresh, mode='hard' ) for i in coeff[1:] )\n",
    "    \n",
    "    # Reconstruct the signal using the thresholded coefficients\n",
    "    return pywt.waverec( coeff[1:], wavelet, mode='per' )"
   ]
  },
  {
   "cell_type": "code",
   "execution_count": 7,
   "metadata": {
    "_uuid": "1ac28211bd02087a9239e28ff13e6275a0fc30de"
   },
   "outputs": [],
   "source": [
    "def denoise_signal_2( x, wavelet='db4', level=1):\n",
    "    \"\"\"\n",
    "    1. Adapted from waveletSmooth function found here:\n",
    "    http://connor-johnson.com/2016/01/24/using-pywavelets-to-remove-high-frequency-noise/\n",
    "    2. Threshold equation and using hard mode in threshold as mentioned\n",
    "    in section '3.2 denoising based on optimized singular values' from paper by Tomas Vantuch:\n",
    "    http://dspace.vsb.cz/bitstream/handle/10084/133114/VAN431_FEI_P1807_1801V001_2018.pdf\n",
    "    \"\"\"\n",
    "    \n",
    "    # Decompose to get the wavelet coefficients\n",
    "    coeff = pywt.wavedec( x, wavelet, mode=\"per\", level=level)\n",
    "    \n",
    "    # Calculate sigma for threshold as defined in http://dspace.vsb.cz/bitstream/handle/10084/133114/VAN431_FEI_P1807_1801V001_2018.pdf\n",
    "    # As noted by @harshit92 MAD referred to in the paper is Mean Absolute Deviation not Median Absolute Deviation\n",
    "    sigma = (1/0.6745) * maddest( coeff[-level] )\n",
    "\n",
    "    # Calculte the univeral threshold\n",
    "    uthresh = sigma * np.sqrt( 2*np.log( len( x ) ) )\n",
    "    coeff[1:] = ( pywt.threshold( i, value=uthresh, mode='hard' ) for i in coeff[1:] )\n",
    "    \n",
    "    # Reconstruct the signal using the thresholded coefficients\n",
    "    return pywt.waverec( coeff[0:], wavelet, mode='per' )"
   ]
  },
  {
   "cell_type": "code",
   "execution_count": 8,
   "metadata": {},
   "outputs": [],
   "source": [
    "def remove_corona(x_dn):\n",
    "    index = pd.Series(x_dn).loc[np.abs(x_dn)>0].index\n",
    "    corona_idx = []\n",
    "    for idx in index:\n",
    "        for i in range(1,maxDistance+1):\n",
    "            if idx+i < pd.Series(x_dn).shape[0]:\n",
    "                if x_dn[idx+i]/(x_dn[idx]+1e-04)<-maxHeightRatio:\n",
    "                    x_dn[idx:idx+maxTicksRemoval] = 0\n",
    "                    corona_idx.append(idx)\n",
    "    return x_dn, corona_idx"
   ]
  },
  {
   "cell_type": "code",
   "execution_count": 9,
   "metadata": {},
   "outputs": [],
   "source": [
    "@jit\n",
    "def main(x):\n",
    "    for col in tqdm_notebook(range(x.shape[1])):\n",
    "        x_hp = high_pass_filter(x.iloc[:,col], low_cutoff=10000, sample_rate=sample_rate)\n",
    "        x_dn = denoise_signal(x_hp, wavelet='haar', level=1)\n",
    "        x_dn_2 = denoise_signal_2(x_hp, wavelet='haar', level=1)\n",
    "\n",
    "        x_dn, corona_idx = remove_corona(x_dn) \n",
    "        \n",
    "        x_dn_len = len(x_dn)\n",
    "        x_dn_2_len = np.int(len(x_dn_2)/4)\n",
    "        \n",
    "        corona_idx = np.array(corona_idx)*2\n",
    "        \n",
    "        for idx in corona_idx:\n",
    "            x_dn_2[idx:idx+maxTicksRemoval] = 500\n",
    "                \n",
    "        stdampall_ad.append(np.std(x_dn_2))\n",
    "        stdampq2_ad.append(np.std(x_dn_2[x_dn_2_len+1 : 2*x_dn_2_len]))\n",
    "        stdampq3_ad.append(np.std(x_dn_2[(2*x_dn_2_len)+1:3*x_dn_2_len]))\n",
    "        stdampq4_ad.append(np.std(x_dn_2[(3*x_dn_2_len)+1:4*x_dn_2_len]))\n",
    "        \n",
    "        meanampall_ad.append(np.mean(x_dn_2))\n",
    "        meanampq2_ad.append(np.mean(x_dn_2[x_dn_2_len+1 : 2*x_dn_2_len]))\n",
    "        meanampq3_ad.append(np.mean(x_dn_2[(2*x_dn_2_len)+1:3*x_dn_2_len]))\n",
    "        meanampq4_ad.append(np.mean(x_dn_2[(3*x_dn_2_len)+1:4*x_dn_2_len]))\n",
    "                        \n",
    "        meanamppos.append(np.mean(pd.Series(x_dn).loc[x_dn>0]))\n",
    "        meanampneg.append(np.mean(pd.Series(x_dn).loc[x_dn<0]))"
   ]
  },
  {
   "cell_type": "code",
   "execution_count": 10,
   "metadata": {},
   "outputs": [],
   "source": [
    "stdampall_ad = []\n",
    "stdampq2_ad = []\n",
    "stdampq3_ad = []\n",
    "stdampq4_ad = []\n",
    "\n",
    "meanampall_ad = []\n",
    "meanampq2_ad = []\n",
    "meanampq3_ad = []\n",
    "meanampq4_ad = []\n",
    "\n",
    "meanamppos = []\n",
    "meanampneg = []"
   ]
  },
  {
   "cell_type": "code",
   "execution_count": 11,
   "metadata": {},
   "outputs": [],
   "source": [
    "maxDistance = 10\n",
    "maxHeightRatio = 0.25\n",
    "maxTicksRemoval =500"
   ]
  },
  {
   "cell_type": "code",
   "execution_count": 12,
   "metadata": {},
   "outputs": [
    {
     "data": {
      "application/vnd.jupyter.widget-view+json": {
       "model_id": "58217c5d9bc04aec930506f9274ca261",
       "version_major": 2,
       "version_minor": 0
      },
      "text/plain": [
       "HBox(children=(IntProgress(value=0, max=8712), HTML(value='')))"
      ]
     },
     "metadata": {},
     "output_type": "display_data"
    },
    {
     "name": "stdout",
     "output_type": "stream",
     "text": [
      "\n"
     ]
    }
   ],
   "source": [
    "subset_train = pq.read_pandas(data_dir + '/train.parquet').to_pandas()\n",
    "main(subset_train)"
   ]
  },
  {
   "cell_type": "code",
   "execution_count": 15,
   "metadata": {},
   "outputs": [],
   "source": [
    "stdampall_ad = np.array(stdampall_ad)\n",
    "stdampq2_ad = np.array(stdampq2_ad)\n",
    "stdampq3_ad = np.array(stdampq3_ad)\n",
    "stdampq4_ad = np.array(stdampq4_ad)\n",
    "\n",
    "meanampall_ad = np.array(meanampall_ad)\n",
    "meanampq2_ad = np.array(meanampq2_ad)\n",
    "meanampq3_ad = np.array(meanampq3_ad)\n",
    "meanampq4_ad = np.array(meanampq4_ad)\n",
    "\n",
    "meanamppos = np.array(meanamppos)\n",
    "meanampneg = np.array(meanampneg)"
   ]
  },
  {
   "cell_type": "code",
   "execution_count": 16,
   "metadata": {},
   "outputs": [],
   "source": [
    "np.save('../features/stdampall_ad.npy', stdampall_ad)\n",
    "np.save('../features/stdampq2_ad.npy', stdampq2_ad)\n",
    "np.save('../features/stdampq3_ad.npy', stdampq3_ad)\n",
    "np.save('../features/stdampq4_ad.npy', stdampq4_ad)\n",
    "np.save('../features/meanampall_ad.npy', meanampall_ad)\n",
    "np.save('../features/meanampq2_ad.npy', meanampq2_ad)\n",
    "np.save('../features/meanampq3_ad.npy', meanampq3_ad)\n",
    "np.save('../features/meanampq4_ad.npy', meanampq4_ad)\n",
    "np.save('../features/meanamppos.npy', meanamppos)\n",
    "np.save('../features/meanampneg.npy', meanampneg)"
   ]
  },
  {
   "cell_type": "code",
   "execution_count": null,
   "metadata": {},
   "outputs": [],
   "source": []
  },
  {
   "cell_type": "code",
   "execution_count": null,
   "metadata": {},
   "outputs": [],
   "source": []
  },
  {
   "cell_type": "code",
   "execution_count": null,
   "metadata": {
    "_uuid": "4524f1ddb1414f8072a7f3d07189957ad6518532"
   },
   "outputs": [],
   "source": [
    "for i in range(10):\n",
    "    subset_test = pq.read_pandas('../input/test.parquet', columns=[str(i*2000 + j + 8712) for j in range(2000)]).to_pandas()\n",
    "    numpeaks_stack += main(subset_test)\n",
    "    gc.collect()"
   ]
  },
  {
   "cell_type": "code",
   "execution_count": null,
   "metadata": {},
   "outputs": [],
   "source": [
    "len(numpeaks_stack)"
   ]
  },
  {
   "cell_type": "code",
   "execution_count": null,
   "metadata": {},
   "outputs": [],
   "source": [
    "numpeaks = np.array(numpeaks_stack)\n",
    "numpospeaks = np.array(numpospeaks)\n",
    "numnegpeaks = np.array(numnegpeaks)\n",
    "\n",
    "maxpeakwidth = np.array(maxpeakwidth)\n",
    "minpeakwidth = np.array(minpeakwidth)\n",
    "meanpeakwidth = np.array(meanpeakwidth)\n",
    "maxamp = np.array(maxamp)\n",
    "minamp = np.array(minamp)\n",
    "meanamp = np.array(meanamp)\n",
    "\n",
    "stdampall = np.array(stdampall)\n",
    "stdposall = np.array(stdposall)\n",
    "stdwidthall = np.array(stdwidthall)\n",
    "\n",
    "stdampq2 = np.array(stdampq2)\n",
    "stdposq2 = np.array(stdposq2)\n",
    "stdwidthq2 = np.array(stdwidthq2)\n",
    "stdampq3 = np.array(stdampq3)\n",
    "stdposq3 = np.array(stdposq3)\n",
    "stdwidthq3 = np.array(stdwidthq3)\n",
    "stdampq4 = np.array(stdampq4)\n",
    "stdposq4 = np.array(stdposq4)\n",
    "stdwidthq4 = np.array(stdwidthq4)"
   ]
  },
  {
   "cell_type": "code",
   "execution_count": null,
   "metadata": {},
   "outputs": [],
   "source": [
    "np.save('../features/numpeaks_test.npy', numpeaks)\n",
    "np.save('../features/numpospeaks_test.npy', numpospeaks)\n",
    "np.save('../features/numnegpeaks_test.npy', numnegpeaks)\n",
    "np.save('../features/maxpeakwidth_test.npy', maxpeakwidth)\n",
    "np.save('../features/minpeakwidth_test.npy', minpeakwidth)\n",
    "np.save('../features/meanpeakwidth_test.npy', meanpeakwidth)\n",
    "np.save('../features/maxamp_test.npy', maxamp)\n",
    "np.save('../features/minamp_test.npy', minamp)\n",
    "np.save('../features/meanamp_test.npy', meanamp)\n",
    "np.save('../features/stdampall_test.npy', stdampall)\n",
    "np.save('../features/stdposall_test.npy', stdposall)\n",
    "np.save('../features/stdwidthall_test.npy', stdwidthall)\n",
    "np.save('../features/stdampq2_test.npy', stdampq2)\n",
    "np.save('../features/stdposq2_test.npy', stdposq2)\n",
    "np.save('../features/stdwidthq2_test.npy', stdwidthq2)\n",
    "np.save('../features/stdampq3_test.npy', stdampq3)\n",
    "np.save('../features/stdposq3_test.npy', stdposq3)\n",
    "np.save('../features/stdwidthq3_test.npy', stdwidthq3)\n",
    "np.save('../features/stdampq4_test.npy', stdampq4)\n",
    "np.save('../features/stdposq4_test.npy', stdposq4)\n",
    "np.save('../features/stdwidthq4_test.npy', stdwidthq4)"
   ]
  },
  {
   "cell_type": "code",
   "execution_count": null,
   "metadata": {},
   "outputs": [],
   "source": []
  }
 ],
 "metadata": {
  "kernelspec": {
   "display_name": "Python 3",
   "language": "python",
   "name": "python3"
  },
  "language_info": {
   "codemirror_mode": {
    "name": "ipython",
    "version": 3
   },
   "file_extension": ".py",
   "mimetype": "text/x-python",
   "name": "python",
   "nbconvert_exporter": "python",
   "pygments_lexer": "ipython3",
   "version": "3.6.5"
  }
 },
 "nbformat": 4,
 "nbformat_minor": 1
}
