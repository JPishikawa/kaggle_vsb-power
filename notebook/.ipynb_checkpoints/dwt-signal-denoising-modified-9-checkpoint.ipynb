{
 "cells": [
  {
   "cell_type": "code",
   "execution_count": 21,
   "metadata": {
    "_uuid": "5226a95ba6e6ea70ec33bfe1334afdbfdb3d62e3"
   },
   "outputs": [],
   "source": [
    "import pandas as pd\n",
    "import numpy as np\n",
    "import matplotlib.pyplot as plt\n",
    "%matplotlib inline\n",
    "import seaborn as sns\n",
    "import pyarrow.parquet as pq\n",
    "import gc\n",
    "import pywt\n",
    "from statsmodels.robust import mad\n",
    "import scipy\n",
    "from scipy import signal\n",
    "from scipy.signal import butter\n",
    "from tqdm import tqdm_notebook\n",
    "import os\n",
    "from multiprocessing import Pool\n",
    "\n",
    "import warnings\n",
    "\n",
    "# Suppress pandas future warnings, I am using different library versions locally\n",
    "# that do not raise warnings.\n",
    "warnings.simplefilter(action='ignore', category=FutureWarning)\n",
    "\n",
    "data_dir = '../input'"
   ]
  },
  {
   "cell_type": "code",
   "execution_count": 22,
   "metadata": {
    "_uuid": "ca160dc97e710c6ee002b2ff8a4b0c59d7079f6d"
   },
   "outputs": [
    {
     "name": "stdout",
     "output_type": "stream",
     "text": [
      "1.1.0\n"
     ]
    }
   ],
   "source": [
    "print(scipy.__version__)"
   ]
  },
  {
   "cell_type": "code",
   "execution_count": 23,
   "metadata": {},
   "outputs": [],
   "source": [
    "# 800,000 data points taken over 20 ms\n",
    "# Grid operates at 50hz, 0.02 * 50 = 1, so 800k samples in 20 milliseconds will capture one complete cycle\n",
    "n_samples = 800000\n",
    "\n",
    "# Sample duration is 20 miliseconds\n",
    "sample_duration = 0.02\n",
    "\n",
    "# Sample rate is the number of samples in one second\n",
    "# Sample rate will be 40mhz\n",
    "sample_rate = n_samples * (1 / sample_duration)"
   ]
  },
  {
   "cell_type": "code",
   "execution_count": 24,
   "metadata": {},
   "outputs": [],
   "source": [
    "def maddest(d, axis=None):\n",
    "    \"\"\"\n",
    "    Mean Absolute Deviation\n",
    "    \"\"\"\n",
    "    return np.mean(np.absolute(d - np.mean(d, axis)), axis)"
   ]
  },
  {
   "cell_type": "code",
   "execution_count": 25,
   "metadata": {},
   "outputs": [],
   "source": [
    "def high_pass_filter(x, low_cutoff=1000, sample_rate=sample_rate):\n",
    "    \"\"\"\n",
    "    From @randxie https://github.com/randxie/Kaggle-VSB-Baseline/blob/master/src/utils/util_signal.py\n",
    "    Modified to work with scipy version 1.1.0 which does not have the fs parameter\n",
    "    \"\"\"\n",
    "    \n",
    "    # nyquist frequency is half the sample rate https://en.wikipedia.org/wiki/Nyquist_frequency\n",
    "    nyquist = 0.5 * sample_rate\n",
    "    norm_low_cutoff = low_cutoff / nyquist\n",
    "    \n",
    "    # Fault pattern usually exists in high frequency band. According to literature, the pattern is visible above 10^4 Hz.\n",
    "    # scipy version 1.2.0\n",
    "    #sos = butter(10, low_freq, btype='hp', fs=sample_fs, output='sos')\n",
    "    \n",
    "    # scipy version 1.1.0\n",
    "    sos = butter(10, Wn=[norm_low_cutoff], btype='highpass', output='sos')\n",
    "    filtered_sig = signal.sosfilt(sos, x)\n",
    "\n",
    "    return filtered_sig"
   ]
  },
  {
   "cell_type": "code",
   "execution_count": 26,
   "metadata": {
    "_uuid": "1ac28211bd02087a9239e28ff13e6275a0fc30de"
   },
   "outputs": [],
   "source": [
    "def denoise_signal( x, wavelet='db4', level=1):\n",
    "    \"\"\"\n",
    "    1. Adapted from waveletSmooth function found here:\n",
    "    http://connor-johnson.com/2016/01/24/using-pywavelets-to-remove-high-frequency-noise/\n",
    "    2. Threshold equation and using hard mode in threshold as mentioned\n",
    "    in section '3.2 denoising based on optimized singular values' from paper by Tomas Vantuch:\n",
    "    http://dspace.vsb.cz/bitstream/handle/10084/133114/VAN431_FEI_P1807_1801V001_2018.pdf\n",
    "    \"\"\"\n",
    "    \n",
    "    # Decompose to get the wavelet coefficients\n",
    "    coeff = pywt.wavedec( x, wavelet, mode=\"per\", level=level)\n",
    "    \n",
    "    # Calculate sigma for threshold as defined in http://dspace.vsb.cz/bitstream/handle/10084/133114/VAN431_FEI_P1807_1801V001_2018.pdf\n",
    "    # As noted by @harshit92 MAD referred to in the paper is Mean Absolute Deviation not Median Absolute Deviation\n",
    "    sigma = (1/0.6745) * maddest( coeff[-level] )\n",
    "\n",
    "    # Calculte the univeral threshold\n",
    "    uthresh = sigma * np.sqrt( 2*np.log( len( x ) ) )\n",
    "    coeff[1:] = ( pywt.threshold( i, value=uthresh, mode='hard' ) for i in coeff[1:] )\n",
    "    \n",
    "    # Reconstruct the signal using the thresholded coefficients\n",
    "    return pywt.waverec( coeff[1:], wavelet, mode='per' )"
   ]
  },
  {
   "cell_type": "code",
   "execution_count": 27,
   "metadata": {},
   "outputs": [],
   "source": [
    "def main(x):\n",
    "    numpeaks = []\n",
    "    for col in tqdm_notebook(range(x.shape[1])):\n",
    "        x_hp = high_pass_filter(x.iloc[:,col], low_cutoff=10000, sample_rate=sample_rate)\n",
    "        x_dn = denoise_signal(x_hp, wavelet='haar', level=1)\n",
    "\n",
    "        index = pd.Series(x_dn).loc[np.abs(x_dn)>0].index\n",
    "        for idx in index:\n",
    "            for i in range(1,maxDistance+1):\n",
    "                if idx+i < pd.Series(x_dn).shape[0]:\n",
    "                    if x_dn[idx+i]/(x_dn[idx]+1e-04)<-maxHeightRatio:\n",
    "                        x_dn[idx:idx+maxTicksRemoval] = 0\n",
    "        \n",
    "        numpeaks.append(pd.Series(x_dn).loc[np.abs(x_dn)>0].count())\n",
    "        numpospeaks.append(pd.Series(x_dn).loc[x_dn>0].count())\n",
    "        numnegpeaks.append(pd.Series(x_dn).loc[x_dn<0].count())\n",
    "\n",
    "        peakwidth = []\n",
    "        for idx in range(numpeaks[col]-1):\n",
    "            peakwidth.append(pd.Series(x_dn).loc[np.abs(x_dn)>0].index[idx+1] - pd.Series(x_dn).loc[np.abs(x_dn)>0].index[idx])\n",
    "\n",
    "        if len(peakwidth)==0:\n",
    "            maxpeakwidth.append(0)\n",
    "            minpeakwidth.append(0)\n",
    "            meanpeakwidth.append(0)\n",
    "        else:\n",
    "            maxpeakwidth.append(np.max(peakwidth))\n",
    "            minpeakwidth.append(np.min(peakwidth))\n",
    "            meanpeakwidth.append(np.mean(peakwidth))\n",
    "\n",
    "        maxamp.append(x_dn.max())\n",
    "        minamp.append(x_dn.min())\n",
    "        meanamp.append(np.mean(x_dn))\n",
    "\n",
    "        stdampall.append(np.std(pd.Series(x_dn).loc[np.abs(x_dn)>0]))\n",
    "        stdposall.append(np.std(pd.Series(x_dn).loc[np.abs(x_dn)>0].index))\n",
    "        stdwidthall.append(np.std(peakwidth))\n",
    "\n",
    "        stdampq2.append(np.std(pd.Series(x_dn[100001:200000]).loc[np.abs(x_dn[100001:200000])>0]))\n",
    "        stdposq2.append(np.std(pd.Series(x_dn[100001:200000]).loc[np.abs(x_dn[100001:200000])>0].index))\n",
    "\n",
    "        numpeaks_q2 = pd.Series(x_dn[100001:200000]).loc[np.abs(x_dn[100001:200000])>0].count()\n",
    "        peakwidth_q2 = []\n",
    "        for idx in range(numpeaks_q2-1):\n",
    "            peakwidth_q2.append(pd.Series(x_dn[100001:200000]).loc[np.abs(x_dn[100001:200000])>0].index[idx+1] \n",
    "                                - pd.Series(x_dn[100001:200000]).loc[np.abs(x_dn[100001:200000])>0].index[idx])\n",
    "        stdwidthq2.append(np.std(peakwidth_q2))\n",
    "\n",
    "        stdampq3.append(np.std(pd.Series(x_dn[200001:300000]).loc[np.abs(x_dn[200001:300000])>0]))\n",
    "        stdposq3.append(np.std(pd.Series(x_dn[200001:300000]).loc[np.abs(x_dn[200001:300000])>0].index))\n",
    "\n",
    "        numpeaks_q3 = pd.Series(x_dn[200001:300000]).loc[np.abs(x_dn[200001:300000])>0].count()\n",
    "        peakwidth_q3 = []\n",
    "        for idx in range(numpeaks_q3-1):\n",
    "            peakwidth_q3.append(pd.Series(x_dn[200001:300000]).loc[np.abs(x_dn[200001:300000])>0].index[idx+1] \n",
    "                                - pd.Series(x_dn[200001:300000]).loc[np.abs(x_dn[200001:300000])>0].index[idx])\n",
    "        stdwidthq3.append(np.std(peakwidth_q3))\n",
    "\n",
    "        stdampq4.append(np.std(pd.Series(x_dn[300001:400000]).loc[np.abs(x_dn[300001:400000])>0]))\n",
    "        stdposq4.append(np.std(pd.Series(x_dn[300001:400000]).loc[np.abs(x_dn[300001:400000])>0].index))\n",
    "\n",
    "        numpeaks_q4 = pd.Series(x_dn[300001:400000]).loc[np.abs(x_dn[300001:400000])>0].count()\n",
    "        peakwidth_q4 = []\n",
    "        for idx in range(numpeaks_q4-1):\n",
    "            peakwidth_q4.append(pd.Series(x_dn[300001:400000]).loc[np.abs(x_dn[300001:400000])>0].index[idx+1] \n",
    "                                - pd.Series(x_dn[300001:400000]).loc[np.abs(x_dn[300001:400000])>0].index[idx])\n",
    "        stdwidthq4.append(np.std(peakwidth_q4))\n",
    "    return numpeaks"
   ]
  },
  {
   "cell_type": "code",
   "execution_count": 28,
   "metadata": {},
   "outputs": [],
   "source": [
    "maxDistance = 10\n",
    "maxHeightRatio = 0.25\n",
    "maxTicksRemoval =500\n",
    "\n",
    "numpeaks = []\n",
    "numpospeaks = []\n",
    "numnegpeaks = []\n",
    "numpeaks_stack = []\n",
    "\n",
    "maxpeakwidth = []\n",
    "minpeakwidth = []\n",
    "meanpeakwidth = []\n",
    "maxamp = []\n",
    "minamp = []\n",
    "meanamp = []\n",
    "\n",
    "stdampall = []\n",
    "stdposall = []\n",
    "stdwidthall = []\n",
    "\n",
    "stdampq2 = []\n",
    "stdposq2 = []\n",
    "stdwidthq2 = []\n",
    "stdampq3 = []\n",
    "stdposq3 = []\n",
    "stdwidthq3 = []\n",
    "stdampq4 = []\n",
    "stdposq4 = []\n",
    "stdwidthq4 = []"
   ]
  },
  {
   "cell_type": "code",
   "execution_count": 29,
   "metadata": {
    "_uuid": "4524f1ddb1414f8072a7f3d07189957ad6518532"
   },
   "outputs": [
    {
     "data": {
      "application/vnd.jupyter.widget-view+json": {
       "model_id": "b9ce8b1f5f234f93bb509eec28efa084",
       "version_major": 2,
       "version_minor": 0
      },
      "text/plain": [
       "HBox(children=(IntProgress(value=0, max=2000), HTML(value='')))"
      ]
     },
     "metadata": {},
     "output_type": "display_data"
    },
    {
     "name": "stderr",
     "output_type": "stream",
     "text": [
      "/home/cwademo123/anaconda3/lib/python3.6/site-packages/numpy/core/_methods.py:135: RuntimeWarning: Degrees of freedom <= 0 for slice\n",
      "  keepdims=keepdims)\n",
      "/home/cwademo123/anaconda3/lib/python3.6/site-packages/numpy/core/_methods.py:105: RuntimeWarning: invalid value encountered in true_divide\n",
      "  arrmean, rcount, out=arrmean, casting='unsafe', subok=False)\n",
      "/home/cwademo123/anaconda3/lib/python3.6/site-packages/numpy/core/_methods.py:127: RuntimeWarning: invalid value encountered in double_scalars\n",
      "  ret = ret.dtype.type(ret / rcount)\n"
     ]
    },
    {
     "name": "stdout",
     "output_type": "stream",
     "text": [
      "\n"
     ]
    },
    {
     "data": {
      "application/vnd.jupyter.widget-view+json": {
       "model_id": "6c900fc239174a82b4d91e6ac6ae1cfc",
       "version_major": 2,
       "version_minor": 0
      },
      "text/plain": [
       "HBox(children=(IntProgress(value=0, max=2000), HTML(value='')))"
      ]
     },
     "metadata": {},
     "output_type": "display_data"
    },
    {
     "name": "stdout",
     "output_type": "stream",
     "text": [
      "\n"
     ]
    },
    {
     "data": {
      "application/vnd.jupyter.widget-view+json": {
       "model_id": "85b69a0d1ef24369b7bab9498e2085fd",
       "version_major": 2,
       "version_minor": 0
      },
      "text/plain": [
       "HBox(children=(IntProgress(value=0, max=2000), HTML(value='')))"
      ]
     },
     "metadata": {},
     "output_type": "display_data"
    },
    {
     "name": "stdout",
     "output_type": "stream",
     "text": [
      "\n"
     ]
    },
    {
     "data": {
      "application/vnd.jupyter.widget-view+json": {
       "model_id": "f65395815ba943c3ada0651269f30b55",
       "version_major": 2,
       "version_minor": 0
      },
      "text/plain": [
       "HBox(children=(IntProgress(value=0, max=2000), HTML(value='')))"
      ]
     },
     "metadata": {},
     "output_type": "display_data"
    },
    {
     "name": "stdout",
     "output_type": "stream",
     "text": [
      "\n"
     ]
    },
    {
     "data": {
      "application/vnd.jupyter.widget-view+json": {
       "model_id": "b25368dde61049bc9a7690dea506494c",
       "version_major": 2,
       "version_minor": 0
      },
      "text/plain": [
       "HBox(children=(IntProgress(value=0, max=2000), HTML(value='')))"
      ]
     },
     "metadata": {},
     "output_type": "display_data"
    },
    {
     "name": "stdout",
     "output_type": "stream",
     "text": [
      "\n"
     ]
    },
    {
     "data": {
      "application/vnd.jupyter.widget-view+json": {
       "model_id": "d51e3a6b40354b29af8bcd1b2b98808d",
       "version_major": 2,
       "version_minor": 0
      },
      "text/plain": [
       "HBox(children=(IntProgress(value=0, max=2000), HTML(value='')))"
      ]
     },
     "metadata": {},
     "output_type": "display_data"
    },
    {
     "name": "stdout",
     "output_type": "stream",
     "text": [
      "\n"
     ]
    },
    {
     "data": {
      "application/vnd.jupyter.widget-view+json": {
       "model_id": "11f5199620b242f8ae877800baf44150",
       "version_major": 2,
       "version_minor": 0
      },
      "text/plain": [
       "HBox(children=(IntProgress(value=0, max=2000), HTML(value='')))"
      ]
     },
     "metadata": {},
     "output_type": "display_data"
    },
    {
     "name": "stdout",
     "output_type": "stream",
     "text": [
      "\n"
     ]
    },
    {
     "data": {
      "application/vnd.jupyter.widget-view+json": {
       "model_id": "72fc8e33d1ba47f588361d7067179726",
       "version_major": 2,
       "version_minor": 0
      },
      "text/plain": [
       "HBox(children=(IntProgress(value=0, max=2000), HTML(value='')))"
      ]
     },
     "metadata": {},
     "output_type": "display_data"
    },
    {
     "name": "stdout",
     "output_type": "stream",
     "text": [
      "\n"
     ]
    },
    {
     "data": {
      "application/vnd.jupyter.widget-view+json": {
       "model_id": "ea5639df584f4f5fa2e4e64ab85cb3a0",
       "version_major": 2,
       "version_minor": 0
      },
      "text/plain": [
       "HBox(children=(IntProgress(value=0, max=2000), HTML(value='')))"
      ]
     },
     "metadata": {},
     "output_type": "display_data"
    },
    {
     "name": "stdout",
     "output_type": "stream",
     "text": [
      "\n"
     ]
    },
    {
     "data": {
      "application/vnd.jupyter.widget-view+json": {
       "model_id": "bae5500d178c49e9bc55e68344419029",
       "version_major": 2,
       "version_minor": 0
      },
      "text/plain": [
       "HBox(children=(IntProgress(value=0, max=2000), HTML(value='')))"
      ]
     },
     "metadata": {},
     "output_type": "display_data"
    },
    {
     "name": "stdout",
     "output_type": "stream",
     "text": [
      "\n"
     ]
    }
   ],
   "source": [
    "for i in range(10):\n",
    "    subset_test = pq.read_pandas('../input/test.parquet', columns=[str(i*2000 + j + 8712) for j in range(2000)]).to_pandas()\n",
    "    numpeaks_stack += main(subset_test)\n",
    "    gc.collect()"
   ]
  },
  {
   "cell_type": "code",
   "execution_count": 30,
   "metadata": {},
   "outputs": [
    {
     "data": {
      "text/plain": [
       "20000"
      ]
     },
     "execution_count": 30,
     "metadata": {},
     "output_type": "execute_result"
    }
   ],
   "source": [
    "len(numpeaks_stack)"
   ]
  },
  {
   "cell_type": "code",
   "execution_count": 31,
   "metadata": {},
   "outputs": [],
   "source": [
    "numpeaks = np.array(numpeaks_stack)\n",
    "numpospeaks = np.array(numpospeaks)\n",
    "numnegpeaks = np.array(numnegpeaks)\n",
    "\n",
    "maxpeakwidth = np.array(maxpeakwidth)\n",
    "minpeakwidth = np.array(minpeakwidth)\n",
    "meanpeakwidth = np.array(meanpeakwidth)\n",
    "maxamp = np.array(maxamp)\n",
    "minamp = np.array(minamp)\n",
    "meanamp = np.array(meanamp)\n",
    "\n",
    "stdampall = np.array(stdampall)\n",
    "stdposall = np.array(stdposall)\n",
    "stdwidthall = np.array(stdwidthall)\n",
    "\n",
    "stdampq2 = np.array(stdampq2)\n",
    "stdposq2 = np.array(stdposq2)\n",
    "stdwidthq2 = np.array(stdwidthq2)\n",
    "stdampq3 = np.array(stdampq3)\n",
    "stdposq3 = np.array(stdposq3)\n",
    "stdwidthq3 = np.array(stdwidthq3)\n",
    "stdampq4 = np.array(stdampq4)\n",
    "stdposq4 = np.array(stdposq4)\n",
    "stdwidthq4 = np.array(stdwidthq4)"
   ]
  },
  {
   "cell_type": "code",
   "execution_count": 34,
   "metadata": {},
   "outputs": [],
   "source": [
    "np.save('../features/numpeaks_test.npy', numpeaks)\n",
    "np.save('../features/numpospeaks_test.npy', numpospeaks)\n",
    "np.save('../features/numnegpeaks_test.npy', numnegpeaks)\n",
    "np.save('../features/maxpeakwidth_test.npy', maxpeakwidth)\n",
    "np.save('../features/minpeakwidth_test.npy', minpeakwidth)\n",
    "np.save('../features/meanpeakwidth_test.npy', meanpeakwidth)\n",
    "np.save('../features/maxamp_test.npy', maxamp)\n",
    "np.save('../features/minamp_test.npy', minamp)\n",
    "np.save('../features/meanamp_test.npy', meanamp)\n",
    "np.save('../features/stdampall_test.npy', stdampall)\n",
    "np.save('../features/stdposall_test.npy', stdposall)\n",
    "np.save('../features/stdwidthall_test.npy', stdwidthall)\n",
    "np.save('../features/stdampq2_test.npy', stdampq2)\n",
    "np.save('../features/stdposq2_test.npy', stdposq2)\n",
    "np.save('../features/stdwidthq2_test.npy', stdwidthq2)\n",
    "np.save('../features/stdampq3_test.npy', stdampq3)\n",
    "np.save('../features/stdposq3_test.npy', stdposq3)\n",
    "np.save('../features/stdwidthq3_test.npy', stdwidthq3)\n",
    "np.save('../features/stdampq4_test.npy', stdampq4)\n",
    "np.save('../features/stdposq4_test.npy', stdposq4)\n",
    "np.save('../features/stdwidthq4_test.npy', stdwidthq4)"
   ]
  },
  {
   "cell_type": "code",
   "execution_count": null,
   "metadata": {},
   "outputs": [],
   "source": []
  }
 ],
 "metadata": {
  "kernelspec": {
   "display_name": "Python 3",
   "language": "python",
   "name": "python3"
  },
  "language_info": {
   "codemirror_mode": {
    "name": "ipython",
    "version": 3
   },
   "file_extension": ".py",
   "mimetype": "text/x-python",
   "name": "python",
   "nbconvert_exporter": "python",
   "pygments_lexer": "ipython3",
   "version": "3.6.5"
  }
 },
 "nbformat": 4,
 "nbformat_minor": 1
}
