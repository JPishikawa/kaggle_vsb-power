{
 "cells": [
  {
   "cell_type": "code",
   "execution_count": 1,
   "metadata": {
    "_uuid": "5226a95ba6e6ea70ec33bfe1334afdbfdb3d62e3"
   },
   "outputs": [],
   "source": [
    "import pandas as pd\n",
    "import numpy as np\n",
    "import matplotlib.pyplot as plt\n",
    "%matplotlib inline\n",
    "import seaborn as sns\n",
    "import pyarrow.parquet as pq\n",
    "import gc\n",
    "import pywt\n",
    "from statsmodels.robust import mad\n",
    "import scipy\n",
    "from scipy import signal\n",
    "from scipy.signal import butter\n",
    "from tqdm import tqdm_notebook\n",
    "import os\n",
    "from multiprocessing import Pool\n",
    "\n",
    "from numba import jit\n",
    "\n",
    "import warnings\n",
    "\n",
    "# Suppress pandas future warnings, I am using different library versions locally\n",
    "# that do not raise warnings.\n",
    "warnings.simplefilter(action='ignore', category=FutureWarning)\n",
    "\n",
    "data_dir = '../input'"
   ]
  },
  {
   "cell_type": "code",
   "execution_count": 2,
   "metadata": {
    "_uuid": "ca160dc97e710c6ee002b2ff8a4b0c59d7079f6d"
   },
   "outputs": [
    {
     "name": "stdout",
     "output_type": "stream",
     "text": [
      "1.1.0\n"
     ]
    }
   ],
   "source": [
    "print(scipy.__version__)"
   ]
  },
  {
   "cell_type": "code",
   "execution_count": 3,
   "metadata": {},
   "outputs": [],
   "source": [
    "# 800,000 data points taken over 20 ms\n",
    "# Grid operates at 50hz, 0.02 * 50 = 1, so 800k samples in 20 milliseconds will capture one complete cycle\n",
    "n_samples = 800000\n",
    "\n",
    "# Sample duration is 20 miliseconds\n",
    "sample_duration = 0.02\n",
    "\n",
    "# Sample rate is the number of samples in one second\n",
    "# Sample rate will be 40mhz\n",
    "sample_rate = n_samples * (1 / sample_duration)"
   ]
  },
  {
   "cell_type": "code",
   "execution_count": 4,
   "metadata": {},
   "outputs": [],
   "source": [
    "def maddest(d, axis=None):\n",
    "    \"\"\"\n",
    "    Mean Absolute Deviation\n",
    "    \"\"\"\n",
    "    return np.mean(np.absolute(d - np.mean(d, axis)), axis)"
   ]
  },
  {
   "cell_type": "code",
   "execution_count": 5,
   "metadata": {},
   "outputs": [],
   "source": [
    "def high_pass_filter(x, low_cutoff=1000, sample_rate=sample_rate):\n",
    "    \"\"\"\n",
    "    From @randxie https://github.com/randxie/Kaggle-VSB-Baseline/blob/master/src/utils/util_signal.py\n",
    "    Modified to work with scipy version 1.1.0 which does not have the fs parameter\n",
    "    \"\"\"\n",
    "    \n",
    "    # nyquist frequency is half the sample rate https://en.wikipedia.org/wiki/Nyquist_frequency\n",
    "    nyquist = 0.5 * sample_rate\n",
    "    norm_low_cutoff = low_cutoff / nyquist\n",
    "    \n",
    "    # Fault pattern usually exists in high frequency band. According to literature, the pattern is visible above 10^4 Hz.\n",
    "    # scipy version 1.2.0\n",
    "    #sos = butter(10, low_freq, btype='hp', fs=sample_fs, output='sos')\n",
    "    \n",
    "    # scipy version 1.1.0\n",
    "    sos = butter(10, Wn=[norm_low_cutoff], btype='highpass', output='sos')\n",
    "    filtered_sig = signal.sosfilt(sos, x)\n",
    "\n",
    "    return filtered_sig"
   ]
  },
  {
   "cell_type": "code",
   "execution_count": 6,
   "metadata": {
    "_uuid": "1ac28211bd02087a9239e28ff13e6275a0fc30de"
   },
   "outputs": [],
   "source": [
    "def denoise_signal( x, wavelet='db4', level=1):\n",
    "    \"\"\"\n",
    "    1. Adapted from waveletSmooth function found here:\n",
    "    http://connor-johnson.com/2016/01/24/using-pywavelets-to-remove-high-frequency-noise/\n",
    "    2. Threshold equation and using hard mode in threshold as mentioned\n",
    "    in section '3.2 denoising based on optimized singular values' from paper by Tomas Vantuch:\n",
    "    http://dspace.vsb.cz/bitstream/handle/10084/133114/VAN431_FEI_P1807_1801V001_2018.pdf\n",
    "    \"\"\"\n",
    "    \n",
    "    # Decompose to get the wavelet coefficients\n",
    "    coeff = pywt.wavedec( x, wavelet, mode=\"per\", level=level)\n",
    "    \n",
    "    # Calculate sigma for threshold as defined in http://dspace.vsb.cz/bitstream/handle/10084/133114/VAN431_FEI_P1807_1801V001_2018.pdf\n",
    "    # As noted by @harshit92 MAD referred to in the paper is Mean Absolute Deviation not Median Absolute Deviation\n",
    "    sigma = (1/0.6745) * maddest( coeff[-level] )\n",
    "\n",
    "    # Calculte the univeral threshold\n",
    "    uthresh = sigma * np.sqrt( 2*np.log( len( x ) ) )\n",
    "    coeff[1:] = ( pywt.threshold( i, value=uthresh, mode='hard' ) for i in coeff[1:] )\n",
    "    \n",
    "    # Reconstruct the signal using the thresholded coefficients\n",
    "    return pywt.waverec( coeff[1:], wavelet, mode='per' )"
   ]
  },
  {
   "cell_type": "code",
   "execution_count": 7,
   "metadata": {
    "_uuid": "1ac28211bd02087a9239e28ff13e6275a0fc30de"
   },
   "outputs": [],
   "source": [
    "def denoise_signal_2( x, wavelet='db4', level=1):\n",
    "    \"\"\"\n",
    "    1. Adapted from waveletSmooth function found here:\n",
    "    http://connor-johnson.com/2016/01/24/using-pywavelets-to-remove-high-frequency-noise/\n",
    "    2. Threshold equation and using hard mode in threshold as mentioned\n",
    "    in section '3.2 denoising based on optimized singular values' from paper by Tomas Vantuch:\n",
    "    http://dspace.vsb.cz/bitstream/handle/10084/133114/VAN431_FEI_P1807_1801V001_2018.pdf\n",
    "    \"\"\"\n",
    "    \n",
    "    # Decompose to get the wavelet coefficients\n",
    "    coeff = pywt.wavedec( x, wavelet, mode=\"per\", level=level)\n",
    "    \n",
    "    # Calculate sigma for threshold as defined in http://dspace.vsb.cz/bitstream/handle/10084/133114/VAN431_FEI_P1807_1801V001_2018.pdf\n",
    "    # As noted by @harshit92 MAD referred to in the paper is Mean Absolute Deviation not Median Absolute Deviation\n",
    "    sigma = (1/0.6745) * maddest( coeff[-level] )\n",
    "\n",
    "    # Calculte the univeral threshold\n",
    "    uthresh = sigma * np.sqrt( 2*np.log( len( x ) ) )\n",
    "    coeff[1:] = ( pywt.threshold( i, value=uthresh, mode='hard' ) for i in coeff[1:] )\n",
    "    \n",
    "    # Reconstruct the signal using the thresholded coefficients\n",
    "    return pywt.waverec( coeff[0:], wavelet, mode='per' )"
   ]
  },
  {
   "cell_type": "code",
   "execution_count": 8,
   "metadata": {},
   "outputs": [],
   "source": [
    "def remove_corona(x_dn):\n",
    "    index = pd.Series(x_dn).loc[np.abs(x_dn)>0].index\n",
    "    corona_idx = []\n",
    "    for idx in index:\n",
    "        for i in range(1,maxDistance+1):\n",
    "            if idx+i < pd.Series(x_dn).shape[0]:\n",
    "                if x_dn[idx+i]/(x_dn[idx]+1e-04)<-maxHeightRatio:\n",
    "                    x_dn[idx:idx+maxTicksRemoval] = 0\n",
    "                    corona_idx.append(idx)\n",
    "    return x_dn, corona_idx"
   ]
  },
  {
   "cell_type": "code",
   "execution_count": 9,
   "metadata": {},
   "outputs": [],
   "source": [
    "@jit\n",
    "def main(x):\n",
    "    for col in tqdm_notebook(range(x.shape[1])):\n",
    "        x_hp = high_pass_filter(x.iloc[:,col], low_cutoff=10000, sample_rate=sample_rate)\n",
    "        x_dn = denoise_signal(x_hp, wavelet='haar', level=1)\n",
    "        x_dn_2 = denoise_signal_2(x_hp, wavelet='haar', level=1)\n",
    "\n",
    "        x_dn, corona_idx = remove_corona(x_dn) \n",
    "        \n",
    "        x_dn_len = len(x_dn)\n",
    "        x_dn_2_len = np.int(len(x_dn_2)/4)\n",
    "        \n",
    "        corona_idx = np.array(corona_idx)*2\n",
    "        \n",
    "        for idx in corona_idx:\n",
    "            x_dn_2[idx:idx+maxTicksRemoval] = 500\n",
    "                \n",
    "        stdampall_ad.append(np.std(x_dn_2))\n",
    "        stdampq2_ad.append(np.std(x_dn_2[x_dn_2_len+1 : 2*x_dn_2_len]))\n",
    "        stdampq3_ad.append(np.std(x_dn_2[(2*x_dn_2_len)+1:3*x_dn_2_len]))\n",
    "        stdampq4_ad.append(np.std(x_dn_2[(3*x_dn_2_len)+1:4*x_dn_2_len]))\n",
    "        \n",
    "        meanampall_ad.append(np.mean(x_dn_2))\n",
    "        meanampq2_ad.append(np.mean(x_dn_2[x_dn_2_len+1 : 2*x_dn_2_len]))\n",
    "        meanampq3_ad.append(np.mean(x_dn_2[(2*x_dn_2_len)+1:3*x_dn_2_len]))\n",
    "        meanampq4_ad.append(np.mean(x_dn_2[(3*x_dn_2_len)+1:4*x_dn_2_len]))\n",
    "                        \n",
    "        meanamppos.append(np.mean(pd.Series(x_dn).loc[x_dn>0]))\n",
    "        meanampneg.append(np.mean(pd.Series(x_dn).loc[x_dn<0]))"
   ]
  },
  {
   "cell_type": "code",
   "execution_count": 18,
   "metadata": {},
   "outputs": [],
   "source": [
    "stdampall_ad = []\n",
    "stdampq2_ad = []\n",
    "stdampq3_ad = []\n",
    "stdampq4_ad = []\n",
    "\n",
    "meanampall_ad = []\n",
    "meanampq2_ad = []\n",
    "meanampq3_ad = []\n",
    "meanampq4_ad = []\n",
    "\n",
    "meanamppos = []\n",
    "meanampneg = []"
   ]
  },
  {
   "cell_type": "code",
   "execution_count": 10,
   "metadata": {},
   "outputs": [],
   "source": [
    "maxDistance = 10\n",
    "maxHeightRatio = 0.25\n",
    "maxTicksRemoval =500"
   ]
  },
  {
   "cell_type": "code",
   "execution_count": 11,
   "metadata": {},
   "outputs": [],
   "source": [
    "subset_train = pq.read_pandas(data_dir + '/train.parquet', columns=[str(i) for i in range(1017, 1035)]).to_pandas()"
   ]
  },
  {
   "cell_type": "markdown",
   "metadata": {},
   "source": [
    "plt.plot(subset_train['0']+subset_train['1']+subset_train['2'])"
   ]
  },
  {
   "cell_type": "code",
   "execution_count": 12,
   "metadata": {},
   "outputs": [
    {
     "data": {
      "text/plain": [
       "[<matplotlib.lines.Line2D at 0x7fec6ffc6e10>]"
      ]
     },
     "execution_count": 12,
     "metadata": {},
     "output_type": "execute_result"
    },
    {
     "data": {
      "image/png": "[encoded data removed]",
      "text/plain": [
       "<Figure size 432x288 with 1 Axes>"
      ]
     },
     "metadata": {},
     "output_type": "display_data"
    }
   ],
   "source": [
    "plt.plot(subset_train['1017']+subset_train['1018']+subset_train['1019'])"
   ]
  },
  {
   "cell_type": "code",
   "execution_count": 17,
   "metadata": {},
   "outputs": [
    {
     "data": {
      "text/plain": [
       "771119"
      ]
     },
     "execution_count": 17,
     "metadata": {},
     "output_type": "execute_result"
    }
   ],
   "source": [
    "np.sum((subset_train['1017']+subset_train['1018']+subset_train['1019'])!=0)"
   ]
  },
  {
   "cell_type": "code",
   "execution_count": 36,
   "metadata": {},
   "outputs": [
    {
     "name": "stdout",
     "output_type": "stream",
     "text": [
      "0\n",
      "5000\n",
      "10000\n",
      "15000\n",
      "20000\n",
      "25000\n",
      "30000\n",
      "35000\n",
      "40000\n",
      "45000\n",
      "50000\n",
      "55000\n",
      "60000\n",
      "65000\n",
      "70000\n",
      "75000\n",
      "80000\n",
      "85000\n",
      "90000\n",
      "95000\n",
      "100000\n",
      "105000\n",
      "110000\n",
      "115000\n",
      "120000\n",
      "125000\n",
      "130000\n",
      "135000\n",
      "140000\n",
      "145000\n",
      "150000\n",
      "155000\n",
      "160000\n",
      "165000\n",
      "170000\n",
      "175000\n",
      "180000\n",
      "185000\n",
      "190000\n",
      "195000\n",
      "200000\n",
      "205000\n",
      "210000\n",
      "215000\n",
      "220000\n",
      "225000\n",
      "230000\n",
      "235000\n",
      "240000\n",
      "245000\n",
      "250000\n",
      "255000\n",
      "260000\n",
      "265000\n",
      "270000\n",
      "275000\n",
      "280000\n",
      "285000\n",
      "290000\n",
      "295000\n",
      "300000\n",
      "305000\n",
      "310000\n",
      "315000\n",
      "320000\n",
      "325000\n",
      "330000\n",
      "335000\n",
      "340000\n",
      "345000\n",
      "350000\n",
      "355000\n",
      "360000\n",
      "365000\n",
      "370000\n",
      "375000\n",
      "380000\n",
      "385000\n",
      "390000\n",
      "395000\n",
      "400000\n",
      "405000\n",
      "410000\n",
      "415000\n",
      "420000\n",
      "425000\n",
      "430000\n",
      "435000\n",
      "440000\n",
      "445000\n",
      "450000\n",
      "455000\n",
      "460000\n",
      "465000\n",
      "470000\n",
      "475000\n",
      "480000\n",
      "485000\n",
      "490000\n",
      "495000\n",
      "500000\n",
      "505000\n",
      "510000\n",
      "515000\n",
      "520000\n",
      "525000\n",
      "530000\n",
      "535000\n",
      "540000\n",
      "545000\n",
      "550000\n",
      "555000\n",
      "560000\n",
      "565000\n",
      "570000\n",
      "575000\n",
      "580000\n",
      "585000\n",
      "590000\n",
      "595000\n",
      "600000\n",
      "605000\n",
      "610000\n",
      "615000\n",
      "620000\n",
      "625000\n",
      "630000\n",
      "635000\n",
      "640000\n",
      "645000\n",
      "650000\n",
      "655000\n",
      "660000\n",
      "665000\n",
      "670000\n",
      "675000\n",
      "680000\n",
      "685000\n",
      "690000\n",
      "695000\n",
      "700000\n",
      "705000\n",
      "710000\n",
      "715000\n",
      "720000\n",
      "725000\n",
      "730000\n",
      "735000\n",
      "740000\n",
      "745000\n",
      "750000\n",
      "755000\n",
      "760000\n",
      "765000\n",
      "770000\n",
      "775000\n",
      "780000\n",
      "785000\n",
      "790000\n",
      "795000\n"
     ]
    }
   ],
   "source": [
    "for i in range(0, 800000, 5000):\n",
    "    print(i)"
   ]
  },
  {
   "cell_type": "code",
   "execution_count": 34,
   "metadata": {},
   "outputs": [
    {
     "data": {
      "text/plain": [
       "RangeIndex(start=0, stop=800000, step=1)"
      ]
     },
     "execution_count": 34,
     "metadata": {},
     "output_type": "execute_result"
    }
   ],
   "source": [
    "(subset_train['1017']+subset_train['1018']+subset_train['1019'])==0"
   ]
  },
  {
   "cell_type": "code",
   "execution_count": 31,
   "metadata": {},
   "outputs": [
    {
     "data": {
      "text/plain": [
       "(800000, 18)"
      ]
     },
     "execution_count": 31,
     "metadata": {},
     "output_type": "execute_result"
    }
   ],
   "source": [
    "subset_train.shape"
   ]
  },
  {
   "cell_type": "code",
   "execution_count": 13,
   "metadata": {},
   "outputs": [],
   "source": [
    "X_HP = []\n",
    "X_DN = []\n",
    "X_DN_2 = []\n",
    "\n",
    "for col in range(subset_train.shape[1]):\n",
    "    X_HP.append(high_pass_filter(subset_train.iloc[:,col], low_cutoff=10000, sample_rate=sample_rate))\n",
    "    \n",
    "    X_DN.append(denoise_signal(subset_train.iloc[:,col], wavelet='haar', level=1))\n",
    "    X_DN_2.append(denoise_signal_2(subset_train.iloc[:,col], wavelet='haar', level=1))"
   ]
  },
  {
   "cell_type": "code",
   "execution_count": 14,
   "metadata": {},
   "outputs": [
    {
     "data": {
      "text/plain": [
       "(400000,)"
      ]
     },
     "execution_count": 14,
     "metadata": {},
     "output_type": "execute_result"
    }
   ],
   "source": [
    "X_DN[0].shape"
   ]
  },
  {
   "cell_type": "code",
   "execution_count": 15,
   "metadata": {},
   "outputs": [
    {
     "data": {
      "text/plain": [
       "[<matplotlib.lines.Line2D at 0x7feb8c8785f8>]"
      ]
     },
     "execution_count": 15,
     "metadata": {},
     "output_type": "execute_result"
    },
    {
     "data": {
      "image/png": "[encoded data removed]",
      "text/plain": [
       "<Figure size 432x288 with 1 Axes>"
      ]
     },
     "metadata": {},
     "output_type": "display_data"
    }
   ],
   "source": [
    "plt.plot(X_DN[0])"
   ]
  },
  {
   "cell_type": "code",
   "execution_count": 16,
   "metadata": {},
   "outputs": [
    {
     "data": {
      "text/plain": [
       "[<matplotlib.lines.Line2D at 0x7feb8c8395f8>]"
      ]
     },
     "execution_count": 16,
     "metadata": {},
     "output_type": "execute_result"
    },
    {
     "data": {
      "image/png": "[encoded data removed]",
      "text/plain": [
       "<Figure size 432x288 with 1 Axes>"
      ]
     },
     "metadata": {},
     "output_type": "display_data"
    }
   ],
   "source": [
    "plt.plot(X_DN[0]+X_DN[1]+X_DN[2])"
   ]
  },
  {
   "cell_type": "code",
   "execution_count": 23,
   "metadata": {},
   "outputs": [
    {
     "data": {
      "text/plain": [
       "[<matplotlib.lines.Line2D at 0x7fec70071048>]"
      ]
     },
     "execution_count": 23,
     "metadata": {},
     "output_type": "execute_result"
    },
    {
     "data": {
      "image/png": "[encoded data removed]",
      "text/plain": [
       "<Figure size 432x288 with 1 Axes>"
      ]
     },
     "metadata": {},
     "output_type": "display_data"
    }
   ],
   "source": [
    "plt.plot(X_DN_2[0]+X_DN_2[1]+X_DN_2[2])"
   ]
  },
  {
   "cell_type": "code",
   "execution_count": 51,
   "metadata": {},
   "outputs": [
    {
     "data": {
      "text/plain": [
       "[<matplotlib.lines.Line2D at 0x7fec65e02cf8>]"
      ]
     },
     "execution_count": 51,
     "metadata": {},
     "output_type": "execute_result"
    },
    {
     "data": {
      "image/png": "[encoded data removed]",
      "text/plain": [
       "<Figure size 432x288 with 1 Axes>"
      ]
     },
     "metadata": {},
     "output_type": "display_data"
    }
   ],
   "source": [
    "plt.plot(denoise_signal(subset_train['1017']+subset_train['1018']+subset_train['1019'], wavelet='haar', level=1))"
   ]
  },
  {
   "cell_type": "code",
   "execution_count": 60,
   "metadata": {},
   "outputs": [
    {
     "data": {
      "text/plain": [
       "[<matplotlib.lines.Line2D at 0x7feb8c6e6fd0>]"
      ]
     },
     "execution_count": 60,
     "metadata": {},
     "output_type": "execute_result"
    },
    {
     "data": {
      "image/png": "[encoded data removed]",
      "text/plain": [
       "<Figure size 432x288 with 1 Axes>"
      ]
     },
     "metadata": {},
     "output_type": "display_data"
    }
   ],
   "source": [
    "plt.plot(denoise_signal_2(subset_train['1017']+subset_train['1018']+subset_train['1019'], wavelet='haar', level=1))"
   ]
  },
  {
   "cell_type": "code",
   "execution_count": 57,
   "metadata": {},
   "outputs": [
    {
     "data": {
      "text/plain": [
       "[<matplotlib.lines.Line2D at 0x7fec65d6a7b8>]"
      ]
     },
     "execution_count": 57,
     "metadata": {},
     "output_type": "execute_result"
    },
    {
     "data": {
      "image/png": "[encoded data removed]",
      "text/plain": [
       "<Figure size 432x288 with 1 Axes>"
      ]
     },
     "metadata": {},
     "output_type": "display_data"
    }
   ],
   "source": [
    "plt.plot(denoise_signal(subset_train['1020']+subset_train['1021']+subset_train['1022'], wavelet='haar', level=1))"
   ]
  },
  {
   "cell_type": "code",
   "execution_count": 52,
   "metadata": {},
   "outputs": [],
   "source": [
    "X_DN_3 = denoise_signal(subset_train['1017']+subset_train['1018']+subset_train['1019'], wavelet='haar', level=1)"
   ]
  },
  {
   "cell_type": "code",
   "execution_count": 54,
   "metadata": {},
   "outputs": [
    {
     "data": {
      "text/plain": [
       "214"
      ]
     },
     "execution_count": 54,
     "metadata": {},
     "output_type": "execute_result"
    }
   ],
   "source": [
    "np.sum(X_DN_3<0)"
   ]
  },
  {
   "cell_type": "code",
   "execution_count": 56,
   "metadata": {},
   "outputs": [
    {
     "data": {
      "text/plain": [
       "434"
      ]
     },
     "execution_count": 56,
     "metadata": {},
     "output_type": "execute_result"
    }
   ],
   "source": [
    "np.sum(X_DN_3!=0)"
   ]
  },
  {
   "cell_type": "code",
   "execution_count": 25,
   "metadata": {},
   "outputs": [
    {
     "data": {
      "text/plain": [
       "783215"
      ]
     },
     "execution_count": 25,
     "metadata": {},
     "output_type": "execute_result"
    }
   ],
   "source": [
    "np.sum((X_DN_2[3]+X_DN_2[4]+X_DN_2[5])!=0)"
   ]
  },
  {
   "cell_type": "code",
   "execution_count": 22,
   "metadata": {},
   "outputs": [
    {
     "data": {
      "text/plain": [
       "[<matplotlib.lines.Line2D at 0x7feb8c62ceb8>]"
      ]
     },
     "execution_count": 22,
     "metadata": {},
     "output_type": "execute_result"
    },
    {
     "data": {
      "image/png": "[encoded data removed]",
      "text/plain": [
       "<Figure size 432x288 with 1 Axes>"
      ]
     },
     "metadata": {},
     "output_type": "display_data"
    }
   ],
   "source": [
    "plt.plot(subset_train['1020']+subset_train['1021']+subset_train['1022'])"
   ]
  },
  {
   "cell_type": "code",
   "execution_count": 58,
   "metadata": {},
   "outputs": [
    {
     "data": {
      "text/plain": [
       "3942"
      ]
     },
     "execution_count": 58,
     "metadata": {},
     "output_type": "execute_result"
    }
   ],
   "source": [
    "np.sum(X_DN[0]+X_DN[1]+X_DN[2]!=0)"
   ]
  },
  {
   "cell_type": "code",
   "execution_count": 59,
   "metadata": {},
   "outputs": [
    {
     "data": {
      "text/plain": [
       "1938"
      ]
     },
     "execution_count": 59,
     "metadata": {},
     "output_type": "execute_result"
    }
   ],
   "source": [
    "np.sum(X_DN[0]+X_DN[1]+X_DN[2]<0)"
   ]
  },
  {
   "cell_type": "code",
   "execution_count": 55,
   "metadata": {},
   "outputs": [
    {
     "data": {
      "text/plain": [
       "123"
      ]
     },
     "execution_count": 55,
     "metadata": {},
     "output_type": "execute_result"
    }
   ],
   "source": [
    "np.sum(X_DN[3]+X_DN[4]+X_DN[5]<0)"
   ]
  },
  {
   "cell_type": "code",
   "execution_count": 37,
   "metadata": {},
   "outputs": [],
   "source": [
    "from scipy.signal import chirp, find_peaks, peak_widths"
   ]
  },
  {
   "cell_type": "code",
   "execution_count": 41,
   "metadata": {},
   "outputs": [
    {
     "name": "stdout",
     "output_type": "stream",
     "text": [
      "170\n"
     ]
    }
   ],
   "source": [
    "peaks, _ = find_peaks(X_DN[3]+X_DN[4]+X_DN[5])\n",
    "print(len(peaks))"
   ]
  },
  {
   "cell_type": "code",
   "execution_count": 42,
   "metadata": {},
   "outputs": [],
   "source": [
    "results_full = peak_widths(X_DN[3]+X_DN[4]+X_DN[5], peaks, rel_height=1)"
   ]
  },
  {
   "cell_type": "code",
   "execution_count": 44,
   "metadata": {},
   "outputs": [
    {
     "data": {
      "text/plain": [
       "277174.8888888889"
      ]
     },
     "execution_count": 44,
     "metadata": {},
     "output_type": "execute_result"
    }
   ],
   "source": [
    "np.max(results_full[0])"
   ]
  },
  {
   "cell_type": "code",
   "execution_count": 45,
   "metadata": {},
   "outputs": [
    {
     "data": {
      "text/plain": [
       "1.5"
      ]
     },
     "execution_count": 45,
     "metadata": {},
     "output_type": "execute_result"
    }
   ],
   "source": [
    "np.min(results_full[0])"
   ]
  },
  {
   "cell_type": "code",
   "execution_count": 47,
   "metadata": {},
   "outputs": [
    {
     "data": {
      "text/plain": [
       "-0.00716122392646676"
      ]
     },
     "execution_count": 47,
     "metadata": {},
     "output_type": "execute_result"
    }
   ],
   "source": [
    "np.mean(X_DN[0])"
   ]
  },
  {
   "cell_type": "code",
   "execution_count": 49,
   "metadata": {},
   "outputs": [
    {
     "data": {
      "text/plain": [
       "4.122580801739595"
      ]
     },
     "execution_count": 49,
     "metadata": {},
     "output_type": "execute_result"
    }
   ],
   "source": [
    "np.std(X_DN[0])"
   ]
  },
  {
   "cell_type": "code",
   "execution_count": 48,
   "metadata": {},
   "outputs": [
    {
     "data": {
      "text/plain": [
       "-1.3506875"
      ]
     },
     "execution_count": 48,
     "metadata": {},
     "output_type": "execute_result"
    }
   ],
   "source": [
    "np.mean(subset_train['1017'])"
   ]
  },
  {
   "cell_type": "code",
   "execution_count": 50,
   "metadata": {},
   "outputs": [
    {
     "data": {
      "text/plain": [
       "16.074558027434026"
      ]
     },
     "execution_count": 50,
     "metadata": {},
     "output_type": "execute_result"
    }
   ],
   "source": [
    "np.std(subset_train['1017'])"
   ]
  },
  {
   "cell_type": "code",
   "execution_count": 46,
   "metadata": {},
   "outputs": [
    {
     "data": {
      "text/plain": [
       "[<matplotlib.lines.Line2D at 0x7fec65e243c8>]"
      ]
     },
     "execution_count": 46,
     "metadata": {},
     "output_type": "execute_result"
    },
    {
     "data": {
      "image/png": "[encoded data removed]",
      "text/plain": [
       "<Figure size 432x288 with 1 Axes>"
      ]
     },
     "metadata": {},
     "output_type": "display_data"
    }
   ],
   "source": [
    "plt.plot(X_DN[3]+X_DN[4]+X_DN[5])"
   ]
  },
  {
   "cell_type": "code",
   "execution_count": 29,
   "metadata": {
    "scrolled": true
   },
   "outputs": [
    {
     "data": {
      "text/plain": [
       "[<matplotlib.lines.Line2D at 0x7fec65f6e128>]"
      ]
     },
     "execution_count": 29,
     "metadata": {},
     "output_type": "execute_result"
    },
    {
     "data": {
      "image/png": "[encoded data removed]",
      "text/plain": [
       "<Figure size 432x288 with 1 Axes>"
      ]
     },
     "metadata": {},
     "output_type": "display_data"
    }
   ],
   "source": [
    "plt.plot(X_DN[3]+X_DN[4]+X_DN[5])"
   ]
  },
  {
   "cell_type": "code",
   "execution_count": 28,
   "metadata": {
    "scrolled": true
   },
   "outputs": [
    {
     "data": {
      "text/plain": [
       "[<matplotlib.lines.Line2D at 0x7fec6600c0f0>]"
      ]
     },
     "execution_count": 28,
     "metadata": {},
     "output_type": "execute_result"
    },
    {
     "data": {
      "image/png": "[encoded data removed]",
      "text/plain": [
       "<Figure size 432x288 with 1 Axes>"
      ]
     },
     "metadata": {},
     "output_type": "display_data"
    }
   ],
   "source": [
    "plt.plot(X_DN_2[3]+X_DN_2[4]+X_DN_2[5])"
   ]
  },
  {
   "cell_type": "code",
   "execution_count": 26,
   "metadata": {},
   "outputs": [
    {
     "data": {
      "text/plain": [
       "array([-4.5, -4.5, -3. , ..., -7.5, -7. , -7. ])"
      ]
     },
     "execution_count": 26,
     "metadata": {},
     "output_type": "execute_result"
    }
   ],
   "source": [
    "X_DN_2[3]+X_DN_2[4]+X_DN_2[5]"
   ]
  },
  {
   "cell_type": "code",
   "execution_count": 28,
   "metadata": {},
   "outputs": [],
   "source": [
    "for col in range(subset_train.shape[1]):    \n",
    "    X_DN[col], corona_idx = remove_corona(X_DN[col])"
   ]
  },
  {
   "cell_type": "code",
   "execution_count": 29,
   "metadata": {
    "scrolled": true
   },
   "outputs": [
    {
     "data": {
      "text/plain": [
       "[<matplotlib.lines.Line2D at 0x7f0f109fe6d8>]"
      ]
     },
     "execution_count": 29,
     "metadata": {},
     "output_type": "execute_result"
    },
    {
     "data": {
      "image/png": "[encoded data removed]",
      "text/plain": [
       "<Figure size 432x288 with 1 Axes>"
      ]
     },
     "metadata": {},
     "output_type": "display_data"
    }
   ],
   "source": [
    "plt.plot(X_DN[3]+X_DN[4]+X_DN[5])"
   ]
  },
  {
   "cell_type": "code",
   "execution_count": 30,
   "metadata": {
    "scrolled": true
   },
   "outputs": [
    {
     "data": {
      "text/plain": [
       "[<matplotlib.lines.Line2D at 0x7fec65f4b5f8>]"
      ]
     },
     "execution_count": 30,
     "metadata": {},
     "output_type": "execute_result"
    },
    {
     "data": {
      "image/png": "[encoded data removed]",
      "text/plain": [
       "<Figure size 432x288 with 1 Axes>"
      ]
     },
     "metadata": {},
     "output_type": "display_data"
    }
   ],
   "source": [
    "plt.plot(X_DN[6]+X_DN[7]+X_DN[8])"
   ]
  },
  {
   "cell_type": "code",
   "execution_count": 63,
   "metadata": {},
   "outputs": [
    {
     "data": {
      "text/plain": [
       "[<matplotlib.lines.Line2D at 0x7f5320bb2cc0>]"
      ]
     },
     "execution_count": 63,
     "metadata": {},
     "output_type": "execute_result"
    },
    {
     "data": {
      "image/png": "[encoded data removed]",
      "text/plain": [
       "<Figure size 1296x648 with 1 Axes>"
      ]
     },
     "metadata": {},
     "output_type": "display_data"
    }
   ],
   "source": [
    "plt.figure(figsize=(18, 9))\n",
    "plt.plot((X_DN[0]+X_DN[1]+X_DN[2])[300000:400000])"
   ]
  },
  {
   "cell_type": "code",
   "execution_count": 65,
   "metadata": {},
   "outputs": [
    {
     "data": {
      "text/plain": [
       "[<matplotlib.lines.Line2D at 0x7f53fe18ac88>]"
      ]
     },
     "execution_count": 65,
     "metadata": {},
     "output_type": "execute_result"
    },
    {
     "data": {
      "image/png": "[encoded data removed]",
      "text/plain": [
       "<Figure size 432x288 with 1 Axes>"
      ]
     },
     "metadata": {},
     "output_type": "display_data"
    }
   ],
   "source": [
    "plt.plot(X_DN[9]+X_DN[10]+X_DN[11])"
   ]
  },
  {
   "cell_type": "code",
   "execution_count": 25,
   "metadata": {},
   "outputs": [
    {
     "data": {
      "text/plain": [
       "[<matplotlib.lines.Line2D at 0x7f53fe497860>]"
      ]
     },
     "execution_count": 25,
     "metadata": {},
     "output_type": "execute_result"
    },
    {
     "data": {
      "image/png": "[encoded data removed]",
      "text/plain": [
       "<Figure size 432x288 with 1 Axes>"
      ]
     },
     "metadata": {},
     "output_type": "display_data"
    }
   ],
   "source": [
    "plt.plot(X_DN[12]+X_DN[13]+X_DN[14])"
   ]
  },
  {
   "cell_type": "code",
   "execution_count": 26,
   "metadata": {
    "scrolled": true
   },
   "outputs": [
    {
     "data": {
      "text/plain": [
       "[<matplotlib.lines.Line2D at 0x7f53fe47c8d0>]"
      ]
     },
     "execution_count": 26,
     "metadata": {},
     "output_type": "execute_result"
    },
    {
     "data": {
      "image/png": "[encoded data removed]",
      "text/plain": [
       "<Figure size 432x288 with 1 Axes>"
      ]
     },
     "metadata": {},
     "output_type": "display_data"
    }
   ],
   "source": [
    "plt.plot(X_DN[15]+X_DN[16]+X_DN[17])"
   ]
  },
  {
   "cell_type": "code",
   "execution_count": 36,
   "metadata": {},
   "outputs": [],
   "source": [
    "total = X_DN[3]+X_DN[4]+X_DN[5]"
   ]
  },
  {
   "cell_type": "code",
   "execution_count": 42,
   "metadata": {},
   "outputs": [
    {
     "data": {
      "text/plain": [
       "84"
      ]
     },
     "execution_count": 42,
     "metadata": {},
     "output_type": "execute_result"
    }
   ],
   "source": [
    "total = pd.Series(total)\n",
    "total[total>0].count()"
   ]
  },
  {
   "cell_type": "code",
   "execution_count": 43,
   "metadata": {},
   "outputs": [
    {
     "data": {
      "text/plain": [
       "2.9546961928152133"
      ]
     },
     "execution_count": 43,
     "metadata": {},
     "output_type": "execute_result"
    }
   ],
   "source": [
    "np.mean(total[total>0])"
   ]
  },
  {
   "cell_type": "code",
   "execution_count": 45,
   "metadata": {},
   "outputs": [
    {
     "data": {
      "text/plain": [
       "84"
      ]
     },
     "execution_count": 45,
     "metadata": {},
     "output_type": "execute_result"
    }
   ],
   "source": [
    "total = np.asarray(total)\n",
    "np.sum(total>0)"
   ]
  },
  {
   "cell_type": "code",
   "execution_count": 46,
   "metadata": {},
   "outputs": [
    {
     "data": {
      "text/plain": [
       "2.9546961928152164"
      ]
     },
     "execution_count": 46,
     "metadata": {},
     "output_type": "execute_result"
    }
   ],
   "source": [
    "np.mean(total[total>0])"
   ]
  },
  {
   "cell_type": "code",
   "execution_count": 54,
   "metadata": {},
   "outputs": [
    {
     "data": {
      "text/plain": [
       "-3.1382261364440716"
      ]
     },
     "execution_count": 54,
     "metadata": {},
     "output_type": "execute_result"
    }
   ],
   "source": [
    "np.mean(total[total<0])"
   ]
  },
  {
   "cell_type": "code",
   "execution_count": 55,
   "metadata": {},
   "outputs": [
    {
     "data": {
      "text/plain": [
       "2.954436243056111"
      ]
     },
     "execution_count": 55,
     "metadata": {},
     "output_type": "execute_result"
    }
   ],
   "source": [
    "np.mean(total[total>0])"
   ]
  },
  {
   "cell_type": "code",
   "execution_count": 56,
   "metadata": {},
   "outputs": [
    {
     "data": {
      "text/plain": [
       "5.646588411884294"
      ]
     },
     "execution_count": 56,
     "metadata": {},
     "output_type": "execute_result"
    }
   ],
   "source": [
    "np.max(total)"
   ]
  },
  {
   "cell_type": "code",
   "execution_count": 57,
   "metadata": {},
   "outputs": [
    {
     "data": {
      "text/plain": [
       "-6.371335221821432"
      ]
     },
     "execution_count": 57,
     "metadata": {},
     "output_type": "execute_result"
    }
   ],
   "source": [
    "np.min(total)"
   ]
  },
  {
   "cell_type": "code",
   "execution_count": null,
   "metadata": {},
   "outputs": [],
   "source": []
  },
  {
   "cell_type": "code",
   "execution_count": null,
   "metadata": {},
   "outputs": [],
   "source": [
    "x_hp = high_pass_filter(x.iloc[:,col], low_cutoff=10000, sample_rate=sample_rate)\n",
    "x_dn = denoise_signal(x_hp, wavelet='haar', level=1)\n",
    "x_dn_2 = denoise_signal_2(x_hp, wavelet='haar', level=1)"
   ]
  },
  {
   "cell_type": "code",
   "execution_count": 15,
   "metadata": {},
   "outputs": [],
   "source": [
    "stdampall_ad = np.array(stdampall_ad)\n",
    "stdampq2_ad = np.array(stdampq2_ad)\n",
    "stdampq3_ad = np.array(stdampq3_ad)\n",
    "stdampq4_ad = np.array(stdampq4_ad)\n",
    "\n",
    "meanampall_ad = np.array(meanampall_ad)\n",
    "meanampq2_ad = np.array(meanampq2_ad)\n",
    "meanampq3_ad = np.array(meanampq3_ad)\n",
    "meanampq4_ad = np.array(meanampq4_ad)\n",
    "\n",
    "meanamppos = np.array(meanamppos)\n",
    "meanampneg = np.array(meanampneg)"
   ]
  },
  {
   "cell_type": "code",
   "execution_count": 16,
   "metadata": {},
   "outputs": [],
   "source": [
    "np.save('../features/stdampall_ad.npy', stdampall_ad)\n",
    "np.save('../features/stdampq2_ad.npy', stdampq2_ad)\n",
    "np.save('../features/stdampq3_ad.npy', stdampq3_ad)\n",
    "np.save('../features/stdampq4_ad.npy', stdampq4_ad)\n",
    "np.save('../features/meanampall_ad.npy', meanampall_ad)\n",
    "np.save('../features/meanampq2_ad.npy', meanampq2_ad)\n",
    "np.save('../features/meanampq3_ad.npy', meanampq3_ad)\n",
    "np.save('../features/meanampq4_ad.npy', meanampq4_ad)\n",
    "np.save('../features/meanamppos.npy', meanamppos)\n",
    "np.save('../features/meanampneg.npy', meanampneg)"
   ]
  },
  {
   "cell_type": "code",
   "execution_count": null,
   "metadata": {},
   "outputs": [],
   "source": []
  },
  {
   "cell_type": "code",
   "execution_count": null,
   "metadata": {},
   "outputs": [],
   "source": []
  },
  {
   "cell_type": "code",
   "execution_count": null,
   "metadata": {
    "_uuid": "4524f1ddb1414f8072a7f3d07189957ad6518532"
   },
   "outputs": [],
   "source": [
    "for i in range(10):\n",
    "    subset_test = pq.read_pandas('../input/test.parquet', columns=[str(i*2000 + j + 8712) for j in range(2000)]).to_pandas()\n",
    "    numpeaks_stack += main(subset_test)\n",
    "    gc.collect()"
   ]
  },
  {
   "cell_type": "code",
   "execution_count": null,
   "metadata": {},
   "outputs": [],
   "source": [
    "len(numpeaks_stack)"
   ]
  },
  {
   "cell_type": "code",
   "execution_count": null,
   "metadata": {},
   "outputs": [],
   "source": [
    "numpeaks = np.array(numpeaks_stack)\n",
    "numpospeaks = np.array(numpospeaks)\n",
    "numnegpeaks = np.array(numnegpeaks)\n",
    "\n",
    "maxpeakwidth = np.array(maxpeakwidth)\n",
    "minpeakwidth = np.array(minpeakwidth)\n",
    "meanpeakwidth = np.array(meanpeakwidth)\n",
    "maxamp = np.array(maxamp)\n",
    "minamp = np.array(minamp)\n",
    "meanamp = np.array(meanamp)\n",
    "\n",
    "stdampall = np.array(stdampall)\n",
    "stdposall = np.array(stdposall)\n",
    "stdwidthall = np.array(stdwidthall)\n",
    "\n",
    "stdampq2 = np.array(stdampq2)\n",
    "stdposq2 = np.array(stdposq2)\n",
    "stdwidthq2 = np.array(stdwidthq2)\n",
    "stdampq3 = np.array(stdampq3)\n",
    "stdposq3 = np.array(stdposq3)\n",
    "stdwidthq3 = np.array(stdwidthq3)\n",
    "stdampq4 = np.array(stdampq4)\n",
    "stdposq4 = np.array(stdposq4)\n",
    "stdwidthq4 = np.array(stdwidthq4)"
   ]
  },
  {
   "cell_type": "code",
   "execution_count": null,
   "metadata": {},
   "outputs": [],
   "source": [
    "np.save('../features/numpeaks_test.npy', numpeaks)\n",
    "np.save('../features/numpospeaks_test.npy', numpospeaks)\n",
    "np.save('../features/numnegpeaks_test.npy', numnegpeaks)\n",
    "np.save('../features/maxpeakwidth_test.npy', maxpeakwidth)\n",
    "np.save('../features/minpeakwidth_test.npy', minpeakwidth)\n",
    "np.save('../features/meanpeakwidth_test.npy', meanpeakwidth)\n",
    "np.save('../features/maxamp_test.npy', maxamp)\n",
    "np.save('../features/minamp_test.npy', minamp)\n",
    "np.save('../features/meanamp_test.npy', meanamp)\n",
    "np.save('../features/stdampall_test.npy', stdampall)\n",
    "np.save('../features/stdposall_test.npy', stdposall)\n",
    "np.save('../features/stdwidthall_test.npy', stdwidthall)\n",
    "np.save('../features/stdampq2_test.npy', stdampq2)\n",
    "np.save('../features/stdposq2_test.npy', stdposq2)\n",
    "np.save('../features/stdwidthq2_test.npy', stdwidthq2)\n",
    "np.save('../features/stdampq3_test.npy', stdampq3)\n",
    "np.save('../features/stdposq3_test.npy', stdposq3)\n",
    "np.save('../features/stdwidthq3_test.npy', stdwidthq3)\n",
    "np.save('../features/stdampq4_test.npy', stdampq4)\n",
    "np.save('../features/stdposq4_test.npy', stdposq4)\n",
    "np.save('../features/stdwidthq4_test.npy', stdwidthq4)"
   ]
  },
  {
   "cell_type": "code",
   "execution_count": null,
   "metadata": {},
   "outputs": [],
   "source": []
  }
 ],
 "metadata": {
  "kernelspec": {
   "display_name": "Python 3",
   "language": "python",
   "name": "python3"
  },
  "language_info": {
   "codemirror_mode": {
    "name": "ipython",
    "version": 3
   },
   "file_extension": ".py",
   "mimetype": "text/x-python",
   "name": "python",
   "nbconvert_exporter": "python",
   "pygments_lexer": "ipython3",
   "version": "3.6.5"
  }
 },
 "nbformat": 4,
 "nbformat_minor": 1
}
